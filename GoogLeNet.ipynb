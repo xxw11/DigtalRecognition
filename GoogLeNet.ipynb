{
 "cells": [
  {
   "cell_type": "code",
   "execution_count": 8,
   "metadata": {},
   "outputs": [],
   "source": [
    "import pandas as pd\n",
    "import numpy as np\n",
    "\n",
    "import torch \n",
    "import torch.nn.functional as F\n",
    "\n",
    "from sklearn.model_selection import train_test_split\n",
    "\n",
    "from torch.utils.data import Dataset\n",
    "from torch.utils.data import DataLoader\n",
    "from torchvision import transforms\n",
    "import torch.optim as optim\n",
    "import torch.nn as nn"
   ]
  },
  {
   "cell_type": "code",
   "execution_count": 2,
   "metadata": {},
   "outputs": [],
   "source": [
    "test_df = pd.read_csv('test.csv')\n",
    "train_df = pd.read_csv('train.csv')"
   ]
  },
  {
   "cell_type": "code",
   "execution_count": 3,
   "metadata": {},
   "outputs": [],
   "source": [
    "x_test = test_df.values/255\n",
    "y = train_df.label.values\n",
    "x = train_df.iloc[:,1:].values/255\n",
    "train_x, val_x, train_y, val_y = train_test_split(x, y, test_size = 0.2) "
   ]
  },
  {
   "cell_type": "code",
   "execution_count": 4,
   "metadata": {},
   "outputs": [],
   "source": [
    "trainTorch_x = torch.from_numpy(train_x).type(torch.FloatTensor)\n",
    "trainTorch_y = torch.from_numpy(train_y).type(torch.LongTensor)\n",
    "\n",
    "\n",
    "valTorch_x = torch.from_numpy(val_x).type(torch.FloatTensor)\n",
    "valTorch_y = torch.from_numpy(val_y).type(torch.LongTensor) \n",
    "\n",
    "testTorch_x = torch.from_numpy(np.array(x_test)).type(torch.FloatTensor)\n",
    "# testTorch_x = testTorch_x.to(device)"
   ]
  },
  {
   "cell_type": "code",
   "execution_count": 5,
   "metadata": {},
   "outputs": [],
   "source": [
    "train = torch.utils.data.TensorDataset(trainTorch_x, trainTorch_y)\n",
    "val = torch.utils.data.TensorDataset(valTorch_x, valTorch_y)"
   ]
  },
  {
   "cell_type": "code",
   "execution_count": 6,
   "metadata": {},
   "outputs": [],
   "source": [
    "train_loader = DataLoader(train, batch_size = 100, shuffle = False)\n",
    "val_loader = DataLoader(val, batch_size = 100, shuffle = False)"
   ]
  },
  {
   "cell_type": "code",
   "execution_count": 18,
   "metadata": {},
   "outputs": [],
   "source": [
    "class InceptionA(nn.Module):\n",
    "    def __init__(self, in_channels):\n",
    "        super(InceptionA,self).__init__()\n",
    "#         branch one\n",
    "        self.branch1x1 = nn.Conv2d(in_channels=in_channels,out_channels=16,kernel_size=1)\n",
    "\n",
    "#         branch two\n",
    "        self.branch5x5_1 = nn.Conv2d(in_channels=in_channels,out_channels=16,kernel_size=1)\n",
    "        self.branch5x5_2 = nn.Conv2d(in_channels=16,out_channels=24,kernel_size=5,padding=2)\n",
    "        \n",
    "#         branch three\n",
    "        self.branch3x3_1 = nn.Conv2d(in_channels=in_channels,out_channels=16,kernel_size=1)\n",
    "        self.branch3x3_2 = nn.Conv2d(16,24,kernel_size=3,padding=1)\n",
    "        self.branch3x3_3 = nn.Conv2d(24,24,kernel_size=3,padding=1)\n",
    "        \n",
    "#         branch four\n",
    "        self.branch_pool = nn.Conv2d(in_channels,24,kernel_size=1)\n",
    "    \n",
    "    def forward(self,x):\n",
    "        \n",
    "        branch1x1 = self.branch1x1(x)\n",
    "        \n",
    "        branch5x5 = self.branch5x5_1(x)\n",
    "        branch5x5 = self.branch5x5_2(branch5x5)\n",
    "        \n",
    "        branch3x3 = self.branch3x3_1(x)\n",
    "        branch3x3 = self.branch3x3_2(branch3x3)\n",
    "        branch3x3 = self.branch3x3_3(branch3x3)\n",
    "        \n",
    "        branch_pool = F.avg_pool2d(x,kernel_size=3,stride=1,padding=1)\n",
    "        branch_pool = self.branch_pool(branch_pool)\n",
    "        \n",
    "        outputs = [branch1x1,branch5x5,branch3x3,branch_pool]\n",
    "        return torch.cat(outputs,dim = 1)"
   ]
  },
  {
   "cell_type": "code",
   "execution_count": 25,
   "metadata": {},
   "outputs": [],
   "source": [
    "class Net(nn.Module):\n",
    "    def __init__(self):\n",
    "        super(Net,self).__init__()\n",
    "        self.conv1 = nn.Conv2d(1,10,kernel_size=5)\n",
    "        self.conv2 = nn.Conv2d(88,20,kernel_size=5)\n",
    "        \n",
    "        self.incep1 = InceptionA(in_channels=10)\n",
    "        self.incep2 = InceptionA(in_channels=20)\n",
    "        \n",
    "        self.mp = nn.MaxPool2d(2)\n",
    "        self.fc1 = nn.Linear(1408,512)\n",
    "        self.fc2 = nn.Linear(512,128)\n",
    "        self.fc3 = nn.Linear(128,10)\n",
    "        \n",
    "    def forward(self,x):\n",
    "        in_size = x.size(0)\n",
    "        x = x.view(in_size,1,28,28)\n",
    "        x = F.relu(self.mp(self.conv1(x)))\n",
    "        x = self.incep1(x)\n",
    "        x = F.relu(self.mp(self.conv2(x)))\n",
    "        x = self.incep2(x)\n",
    "        x = x.view(in_size,-1)\n",
    "        x = F.relu(self.fc1(x))\n",
    "        x = F.relu(self.fc2(x))\n",
    "        x = self.fc3(x)\n",
    "        return x"
   ]
  },
  {
   "cell_type": "code",
   "execution_count": 26,
   "metadata": {},
   "outputs": [],
   "source": [
    "model = Net()\n",
    "# model.to(device)\n",
    "criterion = torch.nn.CrossEntropyLoss()\n",
    "optimizer = optim.SGD(model.parameters(),lr = 0.01,momentum=0.5)"
   ]
  },
  {
   "cell_type": "code",
   "execution_count": 27,
   "metadata": {},
   "outputs": [],
   "source": [
    "# 将单轮循环封装为一个函数\n",
    "\n",
    "def train_func(epoch):\n",
    "    running_loss = 0.0\n",
    "    for batch_idx,data in enumerate(train_loader,0):\n",
    "        inputs,target = data\n",
    "#         inputs,target = inputs.to(device),target.to(device)\n",
    "        optimizer.zero_grad()\n",
    "        \n",
    "        \n",
    "#         forward and backward and update\n",
    "        outputs = model(inputs)\n",
    "        loss = criterion(outputs, target)\n",
    "        loss.backward()\n",
    "        optimizer.step()\n",
    "        \n",
    "        running_loss += loss.item()\n",
    "        if batch_idx % 300 == 299:\n",
    "            print('[%d,%5d] loss: %.3f' % (epoch + 1,batch_idx + 1,running_loss / 300))\n",
    "            running_loss =0.0\n",
    "            "
   ]
  },
  {
   "cell_type": "code",
   "execution_count": 28,
   "metadata": {},
   "outputs": [],
   "source": [
    "def test_func():\n",
    "    correct = 0\n",
    "    total = 0\n",
    "    with torch.no_grad():\n",
    "#         执行之后在下面代码就不会执行梯度\n",
    "        for data in val_loader:\n",
    "            images,labels = data\n",
    "#             images,labels = images.to(device),labels.to(device)\n",
    "#             拿数据\n",
    "            outputs = model(images)\n",
    "#             做预测，拿到的结果是一个矩阵，每一行都是一个独热向量\n",
    "            _, predicted = torch.max(outputs.data,dim = 1)\n",
    "#           返回 最大值 和 每一行的最大值下标\n",
    "#           指定沿着维度1（往下 行是第0个维度，向右 列是第一个维度）\n",
    "            total += labels.size(0)\n",
    "#             label是一个N 1元组 size 取 0 就是？\n",
    "\n",
    "            correct += (predicted == labels).sum().item()\n",
    "    print('Accuracy on test set: %d %%' % (100 * correct / total))"
   ]
  },
  {
   "cell_type": "code",
   "execution_count": 29,
   "metadata": {},
   "outputs": [],
   "source": [
    "def predict_func():\n",
    "    with torch.no_grad():\n",
    "        outputs = model(testTorch_x)\n",
    "        index, predicted = torch.max(outputs.data,dim = 1)\n",
    "    ans2 = predicted\n",
    "    submission_file2 = pd.read_csv('./sample_submission.csv')\n",
    "    submission_file2.Label = ans2\n",
    "    submission_file2.to_csv('submission_cnn_googlenet.csv', index=False)\n",
    "    print(\"saved\")"
   ]
  },
  {
   "cell_type": "code",
   "execution_count": 32,
   "metadata": {},
   "outputs": [
    {
     "name": "stdout",
     "output_type": "stream",
     "text": [
      "[1,  300] loss: 0.000\n",
      "Accuracy on test set: 98 %\n",
      "saved\n"
     ]
    }
   ],
   "source": [
    "if __name__ == '__main__':\n",
    "    for epoch in range(1):\n",
    "        train_func(epoch)\n",
    "        test_func()\n",
    "    predict_func()"
   ]
  },
  {
   "cell_type": "code",
   "execution_count": null,
   "metadata": {},
   "outputs": [],
   "source": []
  }
 ],
 "metadata": {
  "kernelspec": {
   "display_name": "Python 3",
   "language": "python",
   "name": "python3"
  },
  "language_info": {
   "codemirror_mode": {
    "name": "ipython",
    "version": 3
   },
   "file_extension": ".py",
   "mimetype": "text/x-python",
   "name": "python",
   "nbconvert_exporter": "python",
   "pygments_lexer": "ipython3",
   "version": "3.7.6"
  }
 },
 "nbformat": 4,
 "nbformat_minor": 4
}
